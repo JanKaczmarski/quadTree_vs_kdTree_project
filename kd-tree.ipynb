{
 "cells": [
  {
   "cell_type": "code",
   "execution_count": 15,
   "id": "8f5565aa-9615-432d-bb36-7db697dc4d7f",
   "metadata": {},
   "outputs": [],
   "source": [
    "import numpy as np\n",
    "import pandas as pd\n",
    "import matplotlib.pyplot as plt\n",
    "from visualizer.main import Visualizer\n"
   ]
  },
  {
   "cell_type": "code",
   "execution_count": 35,
   "id": "e8dcdcf9-27d9-4e75-b0d9-4ec44fd7fabe",
   "metadata": {},
   "outputs": [
    {
     "data": {
      "image/png": "[encoded data removed]",
      "text/plain": [
       "<Figure size 640x480 with 1 Axes>"
      ]
     },
     "metadata": {},
     "output_type": "display_data"
    }
   ],
   "source": [
    "points = [(5,5), (3,4), (6,3), (4,2), (2,0), (7,1), (8,4)]\n",
    "line=[[(2,0),(2,5)]]\n",
    "polygon=[(3,1),(3,3.5),(6.5,3.5),(6.5,1)]\n",
    "vis = Visualizer()\n",
    "vis.add_polygon(polygon, fill=True, color='grey')\n",
    "\n",
    "vis.add_point(points)\n",
    "vis.add_line_segment(line, color='red')\n",
    "vis.show()"
   ]
  },
  {
   "cell_type": "code",
   "execution_count": 36,
   "id": "8d98641b-7540-4365-b711-5777ebebc996",
   "metadata": {},
   "outputs": [],
   "source": [
    "class rect:\n",
    "    def __init__(self, x_min, x_max, y_min, y_max):\n",
    "        self.x_min=x_min\n",
    "        self.x_max=x_max\n",
    "        self.y_min=y_min\n",
    "        self.y_max=y_max\n",
    "\n",
    "    def crossing(self, other):\n",
    "        return not (\n",
    "            self.x_max < other.x_min or\n",
    "            self.x_min > other.x_max or\n",
    "            self.y_max < other.y_min or\n",
    "            self.y_min > other.y_max\n",
    "        )\n",
    "\n",
    "    def is_inside(self, point):\n",
    "        x, y = point\n",
    "        return self.x_min <= x <= self.x_max and self.y_min <= y <= self.y_max\n",
    "        \n",
    "        \n",
    "    def print_rect(self):\n",
    "        print((self.x_min,self.y_min),(self.x_min,self.y_max),(self.x_max,self.y_max),(self.x_max,self.y_min))\n",
    "\n",
    "class kd_tree_node:\n",
    "    def __init__(self, depth, point, rect, left_leaf, right_leaf):\n",
    "        self.left_leaf=left_leaf\n",
    "        self.right_leaf=right_leaf\n",
    "        self.rect=rect\n",
    "        self.point=point\n",
    "        self.depth=depth\n"
   ]
  },
  {
   "cell_type": "code",
   "execution_count": 37,
   "id": "5cb8314a-d653-4566-87b4-506408f0425d",
   "metadata": {},
   "outputs": [],
   "source": [
    "def partition(A,p,r,b):\n",
    "    x=A[r][b]\n",
    "    i=p-1\n",
    "    for j in range(p,r):\n",
    "        if A[j][b]<=x:\n",
    "            i+=1\n",
    "            A[i],A[j]=A[j],A[i]\n",
    "    A[i+1],A[r]=A[r],A[i+1]\n",
    "    return i+1\n",
    "\n",
    "def quick_select(A,p,r,k,b):\n",
    "    if p==r: \n",
    "        return p\n",
    "    q=partition(A,p,r,b)\n",
    "    if q==k:\n",
    "        return q\n",
    "    elif k<q:\n",
    "        return quick_select(A,p,q-1,k,b)\n",
    "    else:\n",
    "        return quick_select(A,q+1,r,k,b)\n",
    "\n",
    "def find_median(A,p,r,b):\n",
    "    return quick_select(A,p,r,abs((r-p+1)//2)+p,b)\n",
    "\n",
    "def find_min_max(A):\n",
    "    x_max,x_min,y_max,y_min=0,float('inf'),0,float('inf')\n",
    "    \n",
    "    for element in A:\n",
    "        x_max=max(x_max,element[0])\n",
    "        x_min=min(x_min,element[0])\n",
    "        y_max=max(y_max,element[1])\n",
    "        y_min=min(y_min,element[1])\n",
    "\n",
    "    return x_min, x_max, y_min, y_max"
   ]
  },
  {
   "cell_type": "code",
   "execution_count": 43,
   "id": "f0d9bf16-1c2e-4807-b806-3eaec9f4ece7",
   "metadata": {},
   "outputs": [
    {
     "name": "stdout",
     "output_type": "stream",
     "text": [
      "(2, 0)\n"
     ]
    },
    {
     "data": {
      "image/png": "[encoded data removed]",
      "text/plain": [
       "<Figure size 640x480 with 1 Axes>"
      ]
     },
     "metadata": {},
     "output_type": "display_data"
    }
   ],
   "source": [
    "def build_kd_tree_vis(A):\n",
    "    x_min,x_max,y_min,y_max=find_min_max(A)\n",
    "    base_rect=rect(x_min,x_max,y_min,y_max)\n",
    "    base_of_a_tree=kd_tree_node(0,None,base_rect,None,None)\n",
    "    buildier=base_of_a_tree\n",
    "    vis = Visualizer()\n",
    "    vis.add_point(A)\n",
    "\n",
    "    def build_kd_tree(p,r,tree_node):\n",
    "\n",
    "        if p>r:\n",
    "            return None\n",
    "        elif p==r:\n",
    "            tree_node.point=p\n",
    "            b=tree_node.depth%2\n",
    "            q=p\n",
    "            tree_node.point=A[q]\n",
    "            vis.add_point(A[q],color='orange')\n",
    "            if b:\n",
    "                vis.add_line_segment([(tree_node.rect.x_max,A[q][b]),(tree_node.rect.x_min,A[q][b])], color='red')\n",
    "            else:\n",
    "                vis.add_line_segment([(A[q][b],tree_node.rect.y_max),(A[q][b],tree_node.rect.y_min)], color='red')\n",
    "            return None\n",
    "          \n",
    "\n",
    "        b=tree_node.depth%2\n",
    "        q=find_median(A,p,r,b)\n",
    "        tree_node.point=A[q]\n",
    "        vis.add_point(A[q],color='orange')\n",
    "\n",
    "        new_tree_left_node=kd_tree_node(tree_node.depth+1,None,None,None,None)\n",
    "        new_tree_right_node=kd_tree_node(tree_node.depth+1,None,None,None,None)\n",
    "        tree_node.left_leaf=new_tree_left_node\n",
    "        tree_node.right_leaf=new_tree_right_node\n",
    "        \n",
    "        if b:\n",
    "            vis.add_line_segment([(tree_node.rect.x_max,A[q][b]),(tree_node.rect.x_min,A[q][b])], color='red')\n",
    "            new_left_rect=rect(tree_node.rect.x_min,tree_node.rect.x_max,tree_node.rect.y_min,A[q][1])\n",
    "            new_right_rect=rect(tree_node.rect.x_min,tree_node.rect.x_max,A[q][1],tree_node.rect.y_max)\n",
    "            new_tree_left_node.rect=new_left_rect\n",
    "            new_tree_right_node.rect=new_right_rect\n",
    "            build_kd_tree(p,q-1,new_tree_left_node)\n",
    "            build_kd_tree(q+1,r,new_tree_right_node)\n",
    "        else:\n",
    "            vis.add_line_segment([(A[q][b],tree_node.rect.y_max),(A[q][b],tree_node.rect.y_min)], color='red')\n",
    "            new_left_rect=rect(tree_node.rect.x_min,A[q][0],tree_node.rect.y_min,tree_node.rect.y_max)\n",
    "            new_right_rect=rect(A[q][0],tree_node.rect.x_max,tree_node.rect.y_min,tree_node.rect.y_max)\n",
    "            new_tree_left_node.rect=new_left_rect\n",
    "            new_tree_right_node.rect=new_right_rect\n",
    "            build_kd_tree(p,q-1,new_tree_left_node)\n",
    "            build_kd_tree(q+1,r,new_tree_right_node)\n",
    "\n",
    "        \n",
    "        \n",
    "    build_kd_tree(0,len(A)-1,base_of_a_tree)\n",
    "\n",
    "    return vis, base_of_a_tree   \n",
    "vis,base=build_kd_tree(points)\n",
    "start=base\n",
    "vis.show()\n",
    "print(base.left_leaf.left_leaf.point)"
   ]
  },
  {
   "cell_type": "code",
   "execution_count": null,
   "id": "ed3924d8-b13b-456d-9d8a-0713216fc14f",
   "metadata": {},
   "outputs": [],
   "source": [
    "def build_kd_tree(A):\n",
    "    x_min,x_max,y_min,y_max=find_min_max(A)\n",
    "    base_rect=rect(x_min,x_max,y_min,y_max)\n",
    "    base_of_a_tree=kd_tree_node(0,None,base_rect,None,None)\n",
    "    buildier=base_of_a_tree\n",
    "\n",
    "    def build_kd_tree(p,r,tree_node):\n",
    "\n",
    "        if p>r:\n",
    "            return None\n",
    "        elif p==r:\n",
    "            tree_node.point=p\n",
    "            b=tree_node.depth%2\n",
    "            q=p\n",
    "            tree_node.point=A[q]\n",
    "            return None\n",
    "          \n",
    "\n",
    "        b=tree_node.depth%2\n",
    "        q=find_median(A,p,r,b)\n",
    "        tree_node.point=A[q]\n",
    "\n",
    "        new_tree_left_node=kd_tree_node(tree_node.depth+1,None,None,None,None)\n",
    "        new_tree_right_node=kd_tree_node(tree_node.depth+1,None,None,None,None)\n",
    "        tree_node.left_leaf=new_tree_left_node\n",
    "        tree_node.right_leaf=new_tree_right_node\n",
    "        \n",
    "        if b:\n",
    "            new_left_rect=rect(tree_node.rect.x_min,tree_node.rect.x_max,tree_node.rect.y_min,A[q][1])\n",
    "            new_right_rect=rect(tree_node.rect.x_min,tree_node.rect.x_max,A[q][1],tree_node.rect.y_max)\n",
    "            new_tree_left_node.rect=new_left_rect\n",
    "            new_tree_right_node.rect=new_right_rect\n",
    "            build_kd_tree(p,q-1,new_tree_left_node)\n",
    "            build_kd_tree(q+1,r,new_tree_right_node)\n",
    "        else:\n",
    "            new_left_rect=rect(tree_node.rect.x_min,A[q][0],tree_node.rect.y_min,tree_node.rect.y_max)\n",
    "            new_right_rect=rect(A[q][0],tree_node.rect.x_max,tree_node.rect.y_min,tree_node.rect.y_max)\n",
    "            new_tree_left_node.rect=new_left_rect\n",
    "            new_tree_right_node.rect=new_right_rect\n",
    "            build_kd_tree(p,q-1,new_tree_left_node)\n",
    "            build_kd_tree(q+1,r,new_tree_right_node)\n",
    "            \n",
    "    build_kd_tree(0,len(A)-1,base_of_a_tree)\n",
    "\n",
    "    return base_of_a_tree   "
   ]
  },
  {
   "cell_type": "code",
   "execution_count": 39,
   "id": "225b39a2-c321-465b-9792-e3befd82a1f1",
   "metadata": {},
   "outputs": [],
   "source": [
    "def points_inside_rect(rect_section,kd_tree_base):\n",
    "    start=kd_tree_base\n",
    "    queue,solution=[],[]\n",
    "    queue.append(start)\n",
    "    while len(queue):\n",
    "        tree_node=queue.pop()\n",
    "        if rect_section.is_inside(tree_node.point):\n",
    "            solution.append(tree_node.point)\n",
    "\n",
    "        if tree_node.left_leaf != None and rect_section.crossing(tree_node.left_leaf.rect):\n",
    "            queue.append(tree_node.left_leaf)\n",
    "\n",
    "        if tree_node.right_leaf != None and rect_section.crossing(tree_node.right_leaf.rect):\n",
    "            queue.append(tree_node.right_leaf)\n",
    "            \n",
    "    return solution\n",
    "        "
   ]
  },
  {
   "cell_type": "code",
   "execution_count": 45,
   "id": "a5c8c3d4-7222-41c7-9f97-707ccf9c044d",
   "metadata": {},
   "outputs": [
    {
     "data": {
      "image/png": "[encoded data removed]",
      "text/plain": [
       "<Figure size 640x480 with 1 Axes>"
      ]
     },
     "metadata": {},
     "output_type": "display_data"
    }
   ],
   "source": [
    "def test_vis(points,section):\n",
    "    x_min,x_max,y_min,y_max=section\n",
    "    rect_section=rect(x_min,x_max,y_min,y_max)\n",
    "    vis,kd_tree_base=build_kd_tree(points)\n",
    "    polygon=[(x_min,y_min),(x_min,y_max),(x_max,y_max),(x_max,y_min)]\n",
    "    vis.add_polygon(polygon, fill=False, color='grey')\n",
    "    solution=points_inside_rect(rect_section,kd_tree_base)\n",
    "    vis.add_point(solution,color='purple')\n",
    "    vis.show()\n",
    "    \n",
    "section=3,7,1,4.5\n",
    "test_vis(points,section)"
   ]
  },
  {
   "cell_type": "code",
   "execution_count": 46,
   "id": "df6c4991-5fb3-44ab-827c-2aa017e23ee4",
   "metadata": {},
   "outputs": [
    {
     "data": {
      "text/plain": [
       "4"
      ]
     },
     "execution_count": 46,
     "metadata": {},
     "output_type": "execute_result"
    }
   ],
   "source": [
    "def test(points,section):\n",
    "    x_min,x_max,y_min,y_max=section\n",
    "    rect_section=rect(x_min,x_max,y_min,y_max)\n",
    "    vis,kd_tree_base=build_kd_tree(points)\n",
    "    polygon=[(x_min,y_min),(x_min,y_max),(x_max,y_max),(x_max,y_min)]\n",
    "    solution=points_inside_rect(rect_section,kd_tree_base)\n",
    "    return len(solution)\n",
    "    \n",
    "test(points,section)"
   ]
  }
 ],
 "metadata": {
  "kernelspec": {
   "display_name": "Python 3 (ipykernel)",
   "language": "python",
   "name": "python3"
  },
  "language_info": {
   "codemirror_mode": {
    "name": "ipython",
    "version": 3
   },
   "file_extension": ".py",
   "mimetype": "text/x-python",
   "name": "python",
   "nbconvert_exporter": "python",
   "pygments_lexer": "ipython3",
   "version": "3.12.4"
  }
 },
 "nbformat": 4,
 "nbformat_minor": 5
}
